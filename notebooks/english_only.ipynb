{
 "cells": [
  {
   "cell_type": "code",
   "execution_count": 23,
   "id": "ddf8c9dc",
   "metadata": {},
   "outputs": [],
   "source": [
    "import json\n",
    "import os\n",
    "import re\n",
    "from pprint import pprint\n",
    "from dotenv import load_dotenv\n",
    "load_dotenv()\n",
    "\n",
    "RAW_WIKTEXTRACT_LOCATION = os.getenv('RAW_WIKTEXTRACT_LOCATION')"
   ]
  },
  {
   "cell_type": "code",
   "execution_count": 18,
   "id": "a1f47579",
   "metadata": {},
   "outputs": [],
   "source": [
    "# counter = 0\n",
    "# test = \"\"\n",
    "\n",
    "with open(RAW_WIKTEXTRACT_LOCATION, encoding='utf-8') as f_in,\\\n",
    "        open('./tmp/out.txt', 'w', encoding='utf-8') as f_out:\n",
    "    for line in f_in:\n",
    "        # if counter > 50:\n",
    "        #     break\n",
    "        data = json.loads(line)\n",
    "        # if data['lang_code'] == 'en':\n",
    "        #     test += ''.join([data['word'], '\\n'])\n",
    "        # counter += 1\n",
    "        # pprint(data)\n",
    "        # print(data['lang_code'], data['word'])\n",
    "        try:\n",
    "            if data['lang_code'] == 'en':\n",
    "                f_out.write(''.join([data['word'], '\\n']))\n",
    "        except KeyError:\n",
    "            pass\n",
    "\n",
    "# print(test)"
   ]
  },
  {
   "cell_type": "code",
   "execution_count": 19,
   "id": "869338bd",
   "metadata": {},
   "outputs": [
    {
     "name": "stdout",
     "output_type": "stream",
     "text": [
      "1386820\n"
     ]
    }
   ],
   "source": [
    "wordlist = None\n",
    "with open('./tmp/out.txt', 'r', encoding='utf-8') as file:\n",
    "    wordlist = file.read()\n",
    "\n",
    "wordlist = wordlist.split('\\n')\n",
    "print(len(wordlist))"
   ]
  },
  {
   "cell_type": "code",
   "execution_count": 24,
   "id": "38393811",
   "metadata": {},
   "outputs": [
    {
     "name": "stdout",
     "output_type": "stream",
     "text": [
      "1021666\n"
     ]
    }
   ],
   "source": [
    "letters_only = re.compile(\"^[A-Za-z]+$\")\n",
    "\n",
    "cleanlist = []\n",
    "for word in wordlist:\n",
    "    if bool(letters_only.match(word)):\n",
    "        cleanlist.append(word)\n",
    "\n",
    "print(len(cleanlist))"
   ]
  },
  {
   "cell_type": "code",
   "execution_count": 25,
   "id": "df49672e",
   "metadata": {},
   "outputs": [
    {
     "name": "stdout",
     "output_type": "stream",
     "text": [
      "938662\n"
     ]
    }
   ],
   "source": [
    "sorted_cleanlist = sorted(set(cleanlist))\n",
    "print(len(sorted_cleanlist))"
   ]
  },
  {
   "cell_type": "code",
   "execution_count": 28,
   "id": "8f8de2bd",
   "metadata": {},
   "outputs": [
    {
     "name": "stdout",
     "output_type": "stream",
     "text": [
      "938662\n"
     ]
    }
   ],
   "source": [
    "upper_sc = []\n",
    "for sc in sorted_cleanlist:\n",
    "    upper_sc.append(sc.upper())\n",
    "print(len(upper_sc))"
   ]
  },
  {
   "cell_type": "code",
   "execution_count": 34,
   "id": "36def2ba",
   "metadata": {},
   "outputs": [],
   "source": [
    "with open(\"full_validation_dictionary.txt\", \"w\") as f:\n",
    "    for usc in upper_sc:\n",
    "        f.write(''.join([usc, '\\n']))"
   ]
  },
  {
   "cell_type": "code",
   "execution_count": 30,
   "id": "091025a2",
   "metadata": {},
   "outputs": [
    {
     "data": {
      "text/plain": [
       "['ZYMOSCOPES',\n",
       " 'ZYMOSE',\n",
       " 'ZYMOSES',\n",
       " 'ZYMOSIMETER',\n",
       " 'ZYMOSIMETERS',\n",
       " 'ZYMOSIS',\n",
       " 'ZYMOSTEROL',\n",
       " 'ZYMOSTEROLS',\n",
       " 'ZYMOSTERONE',\n",
       " 'ZYMOSTHENIC',\n",
       " 'ZYMOTECHNIC',\n",
       " 'ZYMOTECHNICAL',\n",
       " 'ZYMOTECHNICS',\n",
       " 'ZYMOTECHNOLOGICAL',\n",
       " 'ZYMOTECHNOLOGIST',\n",
       " 'ZYMOTECHNOLOGISTS',\n",
       " 'ZYMOTECHNOLOGY',\n",
       " 'ZYMOTECHNY',\n",
       " 'ZYMOTHERAPY',\n",
       " 'ZYMOTIC',\n",
       " 'ZYMOTICALLY',\n",
       " 'ZYMOTICS',\n",
       " 'ZYMOTOXIC',\n",
       " 'ZYMOTYPE',\n",
       " 'ZYMOTYPES',\n",
       " 'ZYMOXIN',\n",
       " 'ZYMOXINS',\n",
       " 'ZYMOZAN',\n",
       " 'ZYMURGIC',\n",
       " 'ZYMURGICAL',\n",
       " 'ZYMURGIST',\n",
       " 'ZYMURGISTS',\n",
       " 'ZYMURGY',\n",
       " 'ZYTHEM',\n",
       " 'ZYTHEPSARIES',\n",
       " 'ZYTHEPSARY',\n",
       " 'ZYTHOLOGICAL',\n",
       " 'ZYTHOLOGY',\n",
       " 'ZYTHOPHILE',\n",
       " 'ZYTHOPHILES',\n",
       " 'ZYTHOZYMASE',\n",
       " 'ZYTHUM',\n",
       " 'ZYXIN',\n",
       " 'ZYXINS',\n",
       " 'ZYZZYVA',\n",
       " 'ZYZZYVAS',\n",
       " 'ZZZ',\n",
       " 'ZZZED',\n",
       " 'ZZZING',\n",
       " 'ZZZS']"
      ]
     },
     "execution_count": 30,
     "metadata": {},
     "output_type": "execute_result"
    }
   ],
   "source": [
    "upper_sc[-50:]"
   ]
  }
 ],
 "metadata": {
  "kernelspec": {
   "display_name": "Python 3",
   "language": "python",
   "name": "python3"
  },
  "language_info": {
   "codemirror_mode": {
    "name": "ipython",
    "version": 3
   },
   "file_extension": ".py",
   "mimetype": "text/x-python",
   "name": "python",
   "nbconvert_exporter": "python",
   "pygments_lexer": "ipython3",
   "version": "3.13.2"
  }
 },
 "nbformat": 4,
 "nbformat_minor": 5
}
