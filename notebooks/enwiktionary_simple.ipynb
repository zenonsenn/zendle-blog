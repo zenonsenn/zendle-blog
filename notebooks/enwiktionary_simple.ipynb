{
 "cells": [
  {
   "cell_type": "code",
   "execution_count": 27,
   "id": "994f098b",
   "metadata": {},
   "outputs": [],
   "source": [
    "import numpy as np\n",
    "import os\n",
    "from dotenv import load_dotenv\n",
    "load_dotenv()\n",
    "import re\n",
    "\n",
    "ENWIKI_LOCATION = os.getenv(\"ENWIKI_LOCATION\")"
   ]
  },
  {
   "cell_type": "code",
   "execution_count": 28,
   "id": "ae52b51e",
   "metadata": {},
   "outputs": [
    {
     "name": "stdout",
     "output_type": "stream",
     "text": [
      "8469951\n"
     ]
    }
   ],
   "source": [
    "wordlist = None\n",
    "with open(ENWIKI_LOCATION, 'r', encoding='utf-8') as file:\n",
    "    wordlist = file.read()\n",
    "\n",
    "wordlist = wordlist.split('\\n')\n",
    "print(len(wordlist))"
   ]
  },
  {
   "cell_type": "code",
   "execution_count": 20,
   "id": "03d5e97b",
   "metadata": {},
   "outputs": [
    {
     "name": "stdout",
     "output_type": "stream",
     "text": [
      "4662849\n"
     ]
    }
   ],
   "source": [
    "letters_only = re.compile(\"^[A-Za-z]+$\")\n",
    "\n",
    "cleanlist = []\n",
    "for word in wordlist:\n",
    "    if bool(letters_only.match(word)):\n",
    "        cleanlist.append(word)\n",
    "\n",
    "print(len(cleanlist))"
   ]
  },
  {
   "cell_type": "code",
   "execution_count": 22,
   "id": "ff02eb15",
   "metadata": {},
   "outputs": [],
   "source": [
    "for i, word in enumerate(cleanlist):\n",
    "    cleanlist[i] = str.upper(word)"
   ]
  },
  {
   "cell_type": "code",
   "execution_count": 26,
   "id": "84abfb48",
   "metadata": {},
   "outputs": [],
   "source": [
    "with open(\"cleanlist.txt\", \"w\") as f:\n",
    "    f.write('\\n'.join(cleanlist))"
   ]
  },
  {
   "cell_type": "code",
   "execution_count": 24,
   "id": "2876f8d8",
   "metadata": {},
   "outputs": [
    {
     "data": {
      "text/plain": [
       "['ZYTHI',\n",
       " 'ZYTHIS',\n",
       " 'ZYTHO',\n",
       " 'ZYTHOGALA',\n",
       " 'ZYTHOGALAS',\n",
       " 'ZYTHOGALE',\n",
       " 'ZYTHOGALES',\n",
       " 'ZYTHOLOGICAL',\n",
       " 'ZYTHOLOGIE',\n",
       " 'ZYTHOLOGIES',\n",
       " 'ZYTHOLOGUE',\n",
       " 'ZYTHOLOGUES',\n",
       " 'ZYTHOLOGY',\n",
       " 'ZYTHON',\n",
       " 'ZYTHONS',\n",
       " 'ZYTHOPHILE',\n",
       " 'ZYTHOPHILES',\n",
       " 'ZYTHORUM',\n",
       " 'ZYTHOZYMASE',\n",
       " 'ZYTHUM',\n",
       " 'ZYTHUMS',\n",
       " 'ZYTNISKO',\n",
       " 'ZYTOFOTOMETRISCH',\n",
       " 'ZYTOLOOG',\n",
       " 'ZYTOPHOTOMETRISCH',\n",
       " 'ZYTOPLASMATISCH',\n",
       " 'ZYTOSTATISCH',\n",
       " 'ZYTOSTATISCHE',\n",
       " 'ZYTOSTATISCHEM',\n",
       " 'ZYTOSTATISCHEN',\n",
       " 'ZYTOSTATISCHER',\n",
       " 'ZYTOSTATISCHES',\n",
       " 'ZYTOTOXISCH',\n",
       " 'ZYTOTROP',\n",
       " 'ZYUFYOU',\n",
       " 'ZYVA',\n",
       " 'ZYVAS',\n",
       " 'ZYVU',\n",
       " 'ZYWIZNA',\n",
       " 'ZYWNIE',\n",
       " 'ZYWO',\n",
       " 'ZYXIN',\n",
       " 'ZYXINS',\n",
       " 'ZYXT',\n",
       " 'ZYZEL',\n",
       " 'ZYZELS',\n",
       " 'ZYZZYVA',\n",
       " 'ZYZZYVAS',\n",
       " 'ZZ',\n",
       " 'ZZA',\n",
       " 'ZZAHI',\n",
       " 'ZZAHOKO',\n",
       " 'ZZAJ',\n",
       " 'ZZAKKAK',\n",
       " 'ZZAKKAR',\n",
       " 'ZZAPALE',\n",
       " 'ZZAPARE',\n",
       " 'ZZAPPAP',\n",
       " 'ZZAWABEE',\n",
       " 'ZZBIB',\n",
       " 'ZZEBDA',\n",
       " 'ZZECT',\n",
       " 'ZZEI',\n",
       " 'ZZEKRUN',\n",
       " 'ZZEKZEK',\n",
       " 'ZZEKZKU',\n",
       " 'ZZEMAR',\n",
       " 'ZZENQET',\n",
       " 'ZZENZ',\n",
       " 'ZZERAAROKO',\n",
       " 'ZZIE',\n",
       " 'ZZIELENIENIE',\n",
       " 'ZZIFA',\n",
       " 'ZZIFI',\n",
       " 'ZZIFIKO',\n",
       " 'ZZIGGO',\n",
       " 'ZZIK',\n",
       " 'ZZIKA',\n",
       " 'ZZINA',\n",
       " 'ZZITI',\n",
       " 'ZZITUN',\n",
       " 'ZZJ',\n",
       " 'ZZO',\n",
       " 'ZZOKO',\n",
       " 'ZZOKWANAKO',\n",
       " 'ZZOPPJA',\n",
       " 'ZZOR',\n",
       " 'ZZUKUBII',\n",
       " 'ZZUTCHE',\n",
       " 'ZZUTCHIBII',\n",
       " 'ZZXJOANW',\n",
       " 'ZZZ',\n",
       " 'ZZZED',\n",
       " 'ZZZING',\n",
       " 'ZZZS',\n",
       " 'ZZZZ',\n",
       " 'ZZZZZ',\n",
       " 'ZZZZZZ',\n",
       " 'ZZZZZZZ',\n",
       " 'ZZZZZZZZ']"
      ]
     },
     "execution_count": 24,
     "metadata": {},
     "output_type": "execute_result"
    }
   ],
   "source": [
    "cleanlist[-100:]"
   ]
  }
 ],
 "metadata": {
  "kernelspec": {
   "display_name": "Python 3",
   "language": "python",
   "name": "python3"
  },
  "language_info": {
   "codemirror_mode": {
    "name": "ipython",
    "version": 3
   },
   "file_extension": ".py",
   "mimetype": "text/x-python",
   "name": "python",
   "nbconvert_exporter": "python",
   "pygments_lexer": "ipython3",
   "version": "3.13.2"
  }
 },
 "nbformat": 4,
 "nbformat_minor": 5
}
